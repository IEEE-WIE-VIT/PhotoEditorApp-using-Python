{
 "cells": [
  {
   "cell_type": "code",
   "execution_count": 21,
   "metadata": {},
   "outputs": [],
   "source": [
    "from PIL import Image, ImageFilter\n",
    "from PIL.ImageFilter import (\n",
    "     BLUR, CONTOUR, EDGE_ENHANCE, EDGE_ENHANCE_MORE,\n",
    "     EMBOSS, FIND_EDGES, SHARPEN\n",
    ")"
   ]
  },
  {
   "cell_type": "code",
   "execution_count": 22,
   "metadata": {},
   "outputs": [],
   "source": [
    "#creating seperate functions for each property implementation\n",
    "def sharpenPic(curImg, counter):\n",
    "     current = Image.open(curImg)\n",
    "     newImg = current.filter(SHARPEN)\n",
    "     newImg.save('image' + str(counter) + '.jpg')"
   ]
  },
  {
   "cell_type": "code",
   "execution_count": 23,
   "metadata": {},
   "outputs": [],
   "source": [
    "def blurPic(curImg, counter):\n",
    "     current = Image.open(curImg)\n",
    "     newImg = current.filter(BLUR)\n",
    "     newImg.save('image' + str(counter) + '.jpg')"
   ]
  },
  {
   "cell_type": "code",
   "execution_count": 24,
   "metadata": {},
   "outputs": [],
   "source": [
    "def rotateCounter(curImg, counter):\n",
    "     newImg = Image.open(curImg)\n",
    "     newImg.rotate(90).save('image' + str(counter) + '.jpg')"
   ]
  },
  {
   "cell_type": "code",
   "execution_count": 25,
   "metadata": {},
   "outputs": [],
   "source": [
    "def rotateClock(curImg, counter):\n",
    "     newImg = Image.open(curImg)\n",
    "     newImg.rotate(270).save('image' + str(counter) + '.jpg')"
   ]
  },
  {
   "cell_type": "code",
   "execution_count": 26,
   "metadata": {},
   "outputs": [],
   "source": [
    "def cropPic(curImg, counter):\n",
    "     current = Image.open(curImg)\n",
    "     width, height = current.size\n",
    "     left = width / 4\n",
    "     top = height / 4\n",
    "     right = 3 * width / 4\n",
    "     bottom = 3 * height / 4\n",
    "     newImg = current.crop((left, top, right, bottom))\n",
    "     newImg.save('image' + str(counter) + '.jpg')"
   ]
  },
  {
   "cell_type": "code",
   "execution_count": 27,
   "metadata": {},
   "outputs": [],
   "source": [
    "def sketchPic(curImg, counter):\n",
    "     current = Image.open(curImg)\n",
    "     newImg = current.filter(CONTOUR)\n",
    "     newImg.save('image' + str(counter) + '.jpg')"
   ]
  },
  {
   "cell_type": "code",
   "execution_count": 28,
   "metadata": {},
   "outputs": [],
   "source": [
    "def oilPic(curImg, counter):\n",
    "     current = Image.open(curImg)\n",
    "     newImg = current.filter(EDGE_ENHANCE)\n",
    "     newImg.save('image' + str(counter) + '.jpg')"
   ]
  },
  {
   "cell_type": "code",
   "execution_count": 29,
   "metadata": {},
   "outputs": [],
   "source": [
    "def pencilPic(curImg, counter):\n",
    "     current = Image.open(curImg)\n",
    "     newImg = current.filter(EDGE_ENHANCE_MORE)\n",
    "     newImg.save('image' + str(counter) + '.jpg')"
   ]
  },
  {
   "cell_type": "code",
   "execution_count": 30,
   "metadata": {},
   "outputs": [],
   "source": [
    "def foilPic(curImg, counter):\n",
    "     current = Image.open(curImg)\n",
    "     newImg = current.filter(EMBOSS)\n",
    "     newImg.save('image' + str(counter) + '.jpg')"
   ]
  },
  {
   "cell_type": "code",
   "execution_count": 31,
   "metadata": {},
   "outputs": [],
   "source": [
    "def negativePic(curImg, counter):\n",
    "     current = Image.open(curImg)\n",
    "     newImg = current.filter(FIND_EDGES)\n",
    "     newImg.save('image' + str(counter) + '.jpg')"
   ]
  },
  {
   "cell_type": "code",
   "execution_count": 32,
   "metadata": {},
   "outputs": [],
   "source": [
    "#importing tkinter for creating the interface\n",
    "from tkinter import *\n",
    "from PIL import ImageTk,Image"
   ]
  },
  {
   "cell_type": "code",
   "execution_count": 33,
   "metadata": {},
   "outputs": [],
   "source": [
    "def changeImage(counter):\n",
    "     img = ImageTk.PhotoImage(Image.open('image' + str(counter) + '.jpg'))\n",
    "     panel.configure(image=img)\n",
    "     panel.image = img"
   ]
  },
  {
   "cell_type": "code",
   "execution_count": 34,
   "metadata": {},
   "outputs": [],
   "source": [
    "#creating functions that need to be executed while pressing the respected buttons \n",
    "def sharpenImgFunc():\n",
    "     global counter\n",
    "     curImg = 'image' + str(counter) + '.jpg'\n",
    "     counter = counter + 1\n",
    "     sharpenPic(curImg, counter)\n",
    "     changeImage(counter)\n",
    "def blurImgFunc():\n",
    "     global counter\n",
    "     curImg = 'image' + str(counter) + '.jpg'\n",
    "     counter = counter + 1\n",
    "     blurPic(curImg, counter)\n",
    "     changeImage(counter)\n",
    "def rotateCounterFunc():\n",
    "     global counter\n",
    "     curImg = 'image' + str(counter) + '.jpg'\n",
    "     counter = counter + 1\n",
    "     rotateCounter(curImg, counter)\n",
    "     changeImage(counter)\n",
    "def rotateClockFunc():\n",
    "     global counter\n",
    "     curImg = 'image' + str(counter) + '.jpg'\n",
    "     counter = counter + 1\n",
    "     rotateClock(curImg, counter)\n",
    "     changeImage(counter)\n",
    "def cropImgFunc():\n",
    "     global counter\n",
    "     curImg = 'image' + str(counter) + '.jpg'\n",
    "     counter = counter + 1\n",
    "     cropPic(curImg, counter)\n",
    "     changeImage(counter)\n",
    "def undoFunc():\n",
    "     global counter\n",
    "     if counter > 0:\n",
    "          counter = counter - 1\n",
    "     changeImage(counter)\n",
    "def sketchImgFunc():\n",
    "     global counter\n",
    "     curImg = 'image' + str(counter) + '.jpg'\n",
    "     counter = counter + 1\n",
    "     sketchPic(curImg, counter)\n",
    "     changeImage(counter)\n",
    "def oilImgFunc():\n",
    "     global counter\n",
    "     curImg = 'image' + str(counter) + '.jpg'\n",
    "     counter = counter + 1\n",
    "     oilPic(curImg, counter)\n",
    "     changeImage(counter)\n",
    "def paintImgFunc():\n",
    "     global counter\n",
    "     curImg = 'image' + str(counter) + '.jpg'\n",
    "     counter = counter + 1\n",
    "     pencilPic(curImg, counter)\n",
    "     changeImage(counter)\n",
    "def foilImgFunc():\n",
    "     global counter\n",
    "     curImg = 'image' + str(counter) + '.jpg'\n",
    "     counter = counter + 1\n",
    "     foilPic(curImg, counter)\n",
    "     changeImage(counter)\n",
    "def negativeImgFunc():\n",
    "     global counter\n",
    "     curImg = 'image' + str(counter) + '.jpg'\n",
    "     counter = counter + 1\n",
    "     negativePic(curImg, counter)\n",
    "     changeImage(counter)\n"
   ]
  },
  {
   "cell_type": "code",
   "execution_count": 35,
   "metadata": {},
   "outputs": [],
   "source": [
    "main = Tk()\n",
    "counter = 0\n",
    "main.title(\"Photo Editor\")\n",
    "main.geometry(\"1000x505\")\n",
    "var = IntVar()\n",
    "editingBox = Frame(main)\n",
    "undoButton = Button(main, text=\"Undo\", command=undoFunc, font=20)\n",
    "undoButton.pack(side=BOTTOM, pady=10)\n"
   ]
  },
  {
   "cell_type": "code",
   "execution_count": 36,
   "metadata": {},
   "outputs": [],
   "source": [
    "#creating all the buttons on the interface\n",
    "undoButton = Button(main, text=\"Undo\", command=undoFunc, font=20)\n",
    "undoButton.pack(side=BOTTOM, pady=10)\n",
    "formatLabel = Label(editingBox, text = \"Format\", font=16)\n",
    "formatLabel.pack(side = TOP, pady=10)\n",
    "SharpenButton = Button(editingBox, text=\"Sharpen Image\", command=sharpenImgFunc, width=20)\n",
    "SharpenButton.pack(side = TOP)\n",
    "BlurButton = Button(editingBox, text=\"Blur Image\", command=blurImgFunc, width=20)\n",
    "BlurButton.pack(side = TOP)\n",
    "CropButton = Button(editingBox, text=\"Crop\", command=cropImgFunc, width=20)\n",
    "CropButton.pack(side = TOP)\n",
    "rotateCounterButton = Button(editingBox, text=\"Rotate Counter Clockwise\", command = rotateCounterFunc, width=20)\n",
    "rotateCounterButton.pack(side = TOP)\n",
    "rotateClockButton = Button(editingBox, text=\"Rotate Clockwise\", command = rotateClockFunc, width=20)\n",
    "rotateClockButton.pack(side = TOP)"
   ]
  },
  {
   "cell_type": "code",
   "execution_count": 37,
   "metadata": {},
   "outputs": [],
   "source": [
    "img = ImageTk.PhotoImage(Image.open('image' + str(counter) + '.jpg'))\n",
    "panel = Label(main, image=img)\n",
    "panel.pack(side=LEFT, padx=20)"
   ]
  },
  {
   "cell_type": "code",
   "execution_count": 38,
   "metadata": {},
   "outputs": [],
   "source": [
    "negativeButton = Button(editingBox, text=\"Photo negative\", command=negativeImgFunc, width=20)\n",
    "negativeButton.pack(side = BOTTOM)\n",
    "foilButton = Button(editingBox, text=\"Foil art\", command=foilImgFunc, width=20)\n",
    "foilButton.pack(side = BOTTOM)\n",
    "pencilButton = Button(editingBox, text=\"Sharp paint\", command=paintImgFunc, width=20)\n",
    "pencilButton.pack(side = BOTTOM)\n",
    "oilButton = Button(editingBox, text=\"Oil paint\", command=oilImgFunc, width=20)\n",
    "oilButton.pack(side = BOTTOM)\n",
    "sketchButton = Button(editingBox, text=\"Sketch light\", command=sketchImgFunc, width=20)\n",
    "sketchButton.pack(side = BOTTOM)\n",
    "filterLabel = Label(editingBox, text = \"Filters\", font=16)\n",
    "filterLabel.pack(side = BOTTOM, pady=10)"
   ]
  },
  {
   "cell_type": "code",
   "execution_count": 39,
   "metadata": {},
   "outputs": [],
   "source": [
    "#to execute the interface\n",
    "editingBox.pack()\n",
    "main.mainloop()"
   ]
  }
 ],
 "metadata": {
  "interpreter": {
   "hash": "ceadcfe871b6a1549e0d7f40a1530a6203609864d99fe03b93a50265ade114f8"
  },
  "kernelspec": {
   "display_name": "Python 3.8.8 64-bit (conda)",
   "language": "python",
   "name": "python3"
  },
  "language_info": {
   "codemirror_mode": {
    "name": "ipython",
    "version": 3
   },
   "file_extension": ".py",
   "mimetype": "text/x-python",
   "name": "python",
   "nbconvert_exporter": "python",
   "pygments_lexer": "ipython3",
   "version": "3.8.8"
  },
  "orig_nbformat": 4
 },
 "nbformat": 4,
 "nbformat_minor": 2
}
